{
 "cells": [
  {
   "cell_type": "markdown",
   "metadata": {},
   "source": [
    "# Flask run.py"
   ]
  },
  {
   "cell_type": "code",
   "execution_count": 65,
   "metadata": {},
   "outputs": [
    {
     "name": "stderr",
     "output_type": "stream",
     "text": [
      "[nltk_data] Downloading package punkt to\n",
      "[nltk_data]     C:\\Users\\Lindsay\\AppData\\Roaming\\nltk_data...\n",
      "[nltk_data]   Package punkt is already up-to-date!\n",
      "[nltk_data] Downloading package stopwords to\n",
      "[nltk_data]     C:\\Users\\Lindsay\\AppData\\Roaming\\nltk_data...\n",
      "[nltk_data]   Package stopwords is already up-to-date!\n",
      "[nltk_data] Downloading package wordnet to\n",
      "[nltk_data]     C:\\Users\\Lindsay\\AppData\\Roaming\\nltk_data...\n",
      "[nltk_data]   Package wordnet is already up-to-date!\n"
     ]
    }
   ],
   "source": [
    "# import libraries\n",
    "import json\n",
    "import nltk\n",
    "nltk.download(['punkt', 'stopwords', 'wordnet'])\n",
    "from nltk.corpus import stopwords\n",
    "from nltk import download\n",
    "from nltk.stem.wordnet import WordNetLemmatizer\n",
    "from nltk.tokenize import word_tokenize\n",
    "from flask import Flask\n",
    "from flask import render_template, request, jsonify\n",
    "import pandas as pd\n",
    "import pickle\n",
    "import plotly\n",
    "from plotly.graph_objs import Bar, Line\n",
    "import sqlite3\n",
    "import string"
   ]
  },
  {
   "cell_type": "code",
   "execution_count": 66,
   "metadata": {},
   "outputs": [],
   "source": [
    "# We had a problem with unpickling the model. Supposedly this will work. \n",
    "# That is taking out the function and importing.\n",
    "from tokenizer import tokenize"
   ]
  },
  {
   "cell_type": "code",
   "execution_count": 67,
   "metadata": {},
   "outputs": [],
   "source": [
    "# instantiate flask\n",
    "app = Flask(__name__)"
   ]
  },
  {
   "cell_type": "code",
   "execution_count": 68,
   "metadata": {},
   "outputs": [],
   "source": [
    "# load data\n",
    "con = sqlite3.connect('../data/drp.db')\n",
    "\n",
    "# Get messages\n",
    "sql = \"SELECT * FROM messages\"\n",
    "df = pd.read_sql_query(sql, con)\n",
    "\n",
    "# Get scores\n",
    "sql = \"SELECT * FROM scores\"\n",
    "df_scores = pd.read_sql_query(sql, con)\n",
    "\n",
    "# close the sqlite connection\n",
    "con.close()\n",
    "\n",
    "# Rename the first column to category\n",
    "df_scores.rename(columns = {df_scores.columns[0]: 'category'}, inplace=True)\n",
    "\n",
    "# Melt the df_scores to make it easy to do a line plot\n",
    "df_melt = df_scores.melt(id_vars = 'category', \n",
    "                         value_vars = ['accuracy', 'precision', 'recall', 'f1'],\n",
    "                         var_name = 'metric',\n",
    "                         value_name = 'score')\n",
    "\n",
    "# load model\n",
    "model = pickle.load(open(\"../models/model.pkl\", \"rb\"))"
   ]
  },
  {
   "cell_type": "code",
   "execution_count": 69,
   "metadata": {},
   "outputs": [],
   "source": [
    "# index webpage displays cool visuals and receives user input text for model\n",
    "@app.route('/')\n",
    "@app.route('/index')\n",
    "def index():\n",
    "    \n",
    "    \"\"\"Does plotting for the web page. There are 3 plots. 2 bar plots and 1 line plot. \n",
    "    The line plot is based on the scoring of the model\"\"\"\n",
    "    \n",
    "    # Add up the number of messages per category in sorted order for the second plot.\n",
    "    df_2nd = df.iloc[:, 3:].sum().sort_values().reset_index()\n",
    "    \n",
    "    # change column names to Category and Count\n",
    "    df_2nd.columns = ['category','count']\n",
    "\n",
    "    # create visuals\n",
    "\n",
    "    \n",
    "    graphs = [\n",
    "        {\n",
    "            'data': [\n",
    "                Bar(\n",
    "                    x = list(genre_counts.index),\n",
    "                    y = df.groupby('genre').count()['message']\n",
    "                )\n",
    "            ],\n",
    "\n",
    "            'layout': {\n",
    "                'title': 'Distribution of Message Genres',\n",
    "                'yaxis': {\n",
    "                    'title': \"Count\"\n",
    "                },\n",
    "                'xaxis': {\n",
    "                    'title': \"Genre\"\n",
    "                }\n",
    "            }\n",
    "        },\n",
    "        {\n",
    "            'data': [\n",
    "                Bar(\n",
    "                    x = df_2nd['count'],\n",
    "                    y = df_2nd['category'],\n",
    "                    orientation = 'h',\n",
    "                    marker = dict(color='green')\n",
    "                )\n",
    "            ],\n",
    "\n",
    "            'layout': {\n",
    "                'title': \"Numbers of Messages Per Message Category\",\n",
    "                'xaxis': {\n",
    "                    'title':\"Message Numbers\"\n",
    "                }\n",
    "            }\n",
    "        },\n",
    "        {\n",
    "            'data': [\n",
    "                Line(\n",
    "                    x = df_melt['category'],\n",
    "                    y = df_melt['score'],\n",
    "                    color = df_melt['metric']\n",
    "                )\n",
    "            ],\n",
    "\n",
    "            'layout': {\n",
    "                'title': 'Accuracy, Precision, Recall, and F1 Scores For The Classification Model',\n",
    "                'xaxis': {\n",
    "                    'title':\"Categories\",\n",
    "                },\n",
    "                'yaxis': {\n",
    "                    'title': \"Score\"\n",
    "                }\n",
    "            }\n",
    "        }\n",
    "    ]\n",
    "\n",
    "    # encode plotly graphs in JSON\n",
    "    ids = [\"graph-{}\".format(i) for i, _ in enumerate(graphs)]\n",
    "    graphJSON = json.dumps(graphs, cls=plotly.utils.PlotlyJSONEncoder)\n",
    "    \n",
    "    # render web page with plotly graphs\n",
    "    return render_template('master.html', ids=ids, graphJSON=graphJSON)\n"
   ]
  },
  {
   "cell_type": "code",
   "execution_count": 70,
   "metadata": {},
   "outputs": [],
   "source": [
    "# web page that handles user query and displays model results\n",
    "@app.route('/go')\n",
    "def go():\n",
    "    # save user input in query\n",
    "    query = request.args.get('query', '') \n",
    "\n",
    "    # use model to predict classification for query\n",
    "    classification_labels = model.predict([query])[0]\n",
    "    classification_results = dict(zip(df.columns[4:], classification_labels))\n",
    "\n",
    "    # This will render the go.html Please see that file. \n",
    "    return render_template(\n",
    "        'go.html',\n",
    "        query=query,\n",
    "        classification_result=classification_results\n",
    "    )\n"
   ]
  },
  {
   "cell_type": "code",
   "execution_count": 71,
   "metadata": {},
   "outputs": [],
   "source": [
    "def main():\n",
    "    app.run(host='0.0.0.0', port=3001, debug=True)\n",
    "    "
   ]
  },
  {
   "cell_type": "code",
   "execution_count": null,
   "metadata": {},
   "outputs": [],
   "source": [
    "if __name__ == '__main__':\n",
    "    main()"
   ]
  },
  {
   "cell_type": "code",
   "execution_count": null,
   "metadata": {},
   "outputs": [],
   "source": []
  }
 ],
 "metadata": {
  "kernelspec": {
   "display_name": "nlp",
   "language": "python",
   "name": "nlp"
  },
  "language_info": {
   "codemirror_mode": {
    "name": "ipython",
    "version": 3
   },
   "file_extension": ".py",
   "mimetype": "text/x-python",
   "name": "python",
   "nbconvert_exporter": "python",
   "pygments_lexer": "ipython3",
   "version": "3.8.0"
  },
  "toc": {
   "base_numbering": 1,
   "nav_menu": {},
   "number_sections": true,
   "sideBar": true,
   "skip_h1_title": false,
   "title_cell": "Table of Contents",
   "title_sidebar": "Contents",
   "toc_cell": false,
   "toc_position": {},
   "toc_section_display": true,
   "toc_window_display": false
  }
 },
 "nbformat": 4,
 "nbformat_minor": 4
}
