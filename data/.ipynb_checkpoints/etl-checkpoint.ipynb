{
 "cells": [
  {
   "cell_type": "code",
   "execution_count": 70,
   "metadata": {},
   "outputs": [],
   "source": [
    "# import libraries\n",
    "import sys\n",
    "import pandas as pd\n",
    "import sqlite3"
   ]
  },
  {
   "cell_type": "code",
   "execution_count": 71,
   "metadata": {},
   "outputs": [],
   "source": [
    "def clean_categories(categories):\n",
    "    \"\"\"Loads categories csv and cleans it\"\"\"\n",
    "    \n",
    "    # Extract column names\n",
    "\n",
    "    # Get the categories from the first row\n",
    "    categories_str = categories.loc[0, 'categories']\n",
    "\n",
    "    # split on ';'\n",
    "    category_cols = categories_str.split(';')\n",
    "\n",
    "    # Get the column names\n",
    "    cols = [col.split('-')[0] for col in category_cols]\n",
    "    \n",
    "    # create a dataframe of the 36 individual category columns\n",
    "    categories_encoded = categories['categories'].str.split(pat = ';', expand=True)\n",
    "    \n",
    "    # Rename the columns\n",
    "    categories_encoded.columns = cols\n",
    "    \n",
    "    # Get rid of the alpha characters and only keep the one hot encoding (0 or 1)\n",
    "    for col in cols:\n",
    "        categories_encoded[col] = categories_encoded[col].str[-1:].astype(int)\n",
    "    \n",
    "    # Get the mode\n",
    "    mode_ = categories_encoded['related'].mode()[0]\n",
    "    \n",
    "    # The request column has 3 unique labels [0,1,2]. Replace the 2 with the mode of the column (either 0 or 1)\n",
    "    categories_encoded['related'] = categories_encoded['related'].replace(2, mode_)\n",
    "        \n",
    "    # Add the id column\n",
    "    categories_encoded['id'] = categories['id']\n",
    "    \n",
    "    return categories_encoded\n"
   ]
  },
  {
   "cell_type": "code",
   "execution_count": 72,
   "metadata": {},
   "outputs": [],
   "source": [
    "def clean_merged(df):\n",
    "    \"\"\"Input is the merged df. Removes duplicates and drops a column that has a lot of NaNs\"\"\"\n",
    "    \n",
    "    # drop duplicates\n",
    "    df.drop_duplicates(inplace=True)\n",
    "    \n",
    "    # calculate NaNs\n",
    "    cols_null_mean = df.isnull().mean()\n",
    "    \n",
    "    # Find all columns with > 50% nulls\n",
    "    cols_drop = cols_null_mean[cols_null_mean > .5].index.tolist()\n",
    "        \n",
    "    # drop the 'original column'. It is 62% NaN\n",
    "    df.drop(columns = cols_drop, inplace = True)\n",
    "    \n",
    "    return df\n"
   ]
  },
  {
   "cell_type": "code",
   "execution_count": 73,
   "metadata": {},
   "outputs": [],
   "source": [
    "def load_db(df, db):\n",
    "    \"\"\"Load the dataframe into the sqlite database\"\"\"\n",
    "    \n",
    "    # Create connection (create db if not there)\n",
    "    con = sqlite3.connect(db)\n",
    "    \n",
    "    # Write the df to the table messages\n",
    "    df.to_sql('messages', con, if_exists = 'replace', index = False)\n",
    "    \n",
    "    # close the connection\n",
    "    con.close()\n",
    "    \n",
    "    return"
   ]
  },
  {
   "cell_type": "code",
   "execution_count": 74,
   "metadata": {},
   "outputs": [],
   "source": [
    "def driver(file_1, file_2, db):\n",
    "    \n",
    "    \"\"\"Function that drives the etl to completion\n",
    "    inputs\n",
    "    file_1: str: 'disaster_messages.csv'\n",
    "    fil_2: str: 'disaster_categories.csv'\n",
    "    db: str: 'drp.db'\n",
    "    \"\"\"\n",
    "        \n",
    "    print('Loading data...\\n    MESSAGES: {}\\n    CATEGORIES: {}'.format(file_1, file_2))\n",
    "    # load messages dataset\n",
    "    messages = pd.read_csv(file_1)\n",
    "\n",
    "    # load categories dataset\n",
    "    categories = pd.read_csv(file_2)\n",
    "\n",
    "    print('Cleaning data...')\n",
    "    # Clean categories\n",
    "    categories = clean_categories(categories)\n",
    "\n",
    "    # merge dataframes\n",
    "    df = messages.merge(categories)\n",
    "\n",
    "    # clean merged df\n",
    "    df = clean_merged(df)\n",
    "\n",
    "    print('Saving data...\\n    DATABASE: {}'.format(db))\n",
    "    # write to sqlite\n",
    "    load_db(df, db)\n",
    "\n",
    "    # status\n",
    "    print('Cleaned data saved to database!')\n",
    "    \n",
    "    return\n"
   ]
  },
  {
   "cell_type": "code",
   "execution_count": 75,
   "metadata": {},
   "outputs": [],
   "source": [
    "def main():\n",
    "    \"\"\"Check and see if this is running in the command line or from Jupyter\"\"\"\n",
    "    \n",
    "    # Command line\n",
    "    if len(sys.argv) == 4 and sys.argv[0] == 'etl.py':\n",
    "        file_1, file_2, db = sys.argv[1:]\n",
    "        driver(file_1, file_2, db)\n",
    "    \n",
    "    # Jupyter\n",
    "    elif sys.argv[1] == '-f':\n",
    "        driver('disaster_messages.csv', 'disaster_categories.csv', 'drp.db')\n",
    "    \n",
    "    # Wrong arguments\n",
    "    else:\n",
    "        print('Please provide the filepaths of the messages and categories '\\\n",
    "              'datasets as the first and second argument respectively, as '\\\n",
    "              'well as the filepath of the database to save the cleaned data '\\\n",
    "              'to as the third argument. \\n\\nExample: etl.py '\\\n",
    "              'disaster_messages.csv disaster_categories.csv '\\\n",
    "              'drp.db')\n",
    "        \n",
    "    return\n"
   ]
  },
  {
   "cell_type": "code",
   "execution_count": 76,
   "metadata": {},
   "outputs": [
    {
     "name": "stdout",
     "output_type": "stream",
     "text": [
      "Loading data...\n",
      "    MESSAGES: disaster_messages.csv\n",
      "    CATEGORIES: disaster_categories.csv\n",
      "Cleaning data...\n",
      "Saving data...\n",
      "    DATABASE: drp.db\n",
      "Cleaned data saved to database!\n"
     ]
    }
   ],
   "source": [
    "if __name__ == '__main__':\n",
    "    main()"
   ]
  },
  {
   "cell_type": "code",
   "execution_count": null,
   "metadata": {},
   "outputs": [],
   "source": []
  }
 ],
 "metadata": {
  "kernelspec": {
   "display_name": "Python 3",
   "language": "python",
   "name": "python3"
  },
  "language_info": {
   "codemirror_mode": {
    "name": "ipython",
    "version": 3
   },
   "file_extension": ".py",
   "mimetype": "text/x-python",
   "name": "python",
   "nbconvert_exporter": "python",
   "pygments_lexer": "ipython3",
   "version": "3.8.5"
  },
  "toc": {
   "base_numbering": 1,
   "nav_menu": {},
   "number_sections": true,
   "sideBar": true,
   "skip_h1_title": false,
   "title_cell": "Table of Contents",
   "title_sidebar": "Contents",
   "toc_cell": false,
   "toc_position": {},
   "toc_section_display": true,
   "toc_window_display": false
  }
 },
 "nbformat": 4,
 "nbformat_minor": 2
}
